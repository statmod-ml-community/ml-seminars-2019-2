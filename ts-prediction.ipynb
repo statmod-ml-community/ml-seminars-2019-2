{
 "cells": [
  {
   "cell_type": "code",
   "execution_count": 165,
   "metadata": {},
   "outputs": [],
   "source": [
    "import numpy as np\n",
    "import scipy as sp\n",
    "import pandas as pd\n",
    "\n",
    "import matplotlib.pyplot as plt\n",
    "import seaborn as sns\n",
    "\n",
    "import numpy.random as rnd\n",
    "rnd.seed(42)\n",
    "\n",
    "from itertools import accumulate, chain"
   ]
  },
  {
   "cell_type": "markdown",
   "metadata": {},
   "source": [
    "# Utils"
   ]
  },
  {
   "cell_type": "code",
   "execution_count": 296,
   "metadata": {},
   "outputs": [],
   "source": [
    "def random_walk(size, mean=0, sd=1, start=0):\n",
    "    sample = np.cumsum(rnd.normal(loc=mean, scale=sd, size=size))\n",
    "    return pd.Series(sample + start - sample[0])\n",
    "    \n",
    "def slopes(limit, apfreq, mean=0, sd=1):\n",
    "    counts = np.ceil(rnd.exponential(size=limit, scale=apfreq)).astype(np.int64)\n",
    "    counts = counts[counts.cumsum() <= limit]\n",
    "    counts = np.append(counts, limit - counts.sum())\n",
    "    slopes = rnd.normal(size=len(counts), loc=mean, scale=sd)\n",
    "    return pd.DataFrame({'counts': counts, 'slopes': slopes})\n",
    "    \n",
    "def piecewise_linear(size, slopes, start=0):\n",
    "    return slopes.apply(lambda x: linear(int(x[0]), a=x[1]), axis=1, reduce=True)\n",
    "    \n",
    "def linear(size, a=1, b=0):\n",
    "    return a * (np.ones(size).cumsum() - 1) + b"
   ]
  },
  {
   "cell_type": "code",
   "execution_count": 294,
   "metadata": {},
   "outputs": [
    {
     "data": {
      "text/plain": [
       "0      0.0\n",
       "1      1.0\n",
       "2      2.0\n",
       "3      3.0\n",
       "4      4.0\n",
       "      ... \n",
       "95    95.0\n",
       "96    96.0\n",
       "97    97.0\n",
       "98    98.0\n",
       "99    99.0\n",
       "Length: 100, dtype: float64"
      ]
     },
     "execution_count": 294,
     "metadata": {},
     "output_type": "execute_result"
    }
   ],
   "source": [
    "linear(100, 1)"
   ]
  },
  {
   "cell_type": "code",
   "execution_count": 289,
   "metadata": {},
   "outputs": [],
   "source": [
    "sl = slopes(100, 20)"
   ]
  },
  {
   "cell_type": "code",
   "execution_count": 297,
   "metadata": {},
   "outputs": [
    {
     "name": "stderr",
     "output_type": "stream",
     "text": [
      "/home/textor/anaconda3/lib/python3.7/site-packages/ipykernel_launcher.py:1: FutureWarning: The reduce argument is deprecated and will be removed in a future version. You can specify result_type='reduce' to try to reduce the result to the original dimensions\n",
      "  \"\"\"Entry point for launching an IPython kernel.\n"
     ]
    },
    {
     "data": {
      "text/plain": [
       "0    [0.0, -1.8287275989469451, -3.6574551978938903...\n",
       "1              [0.0, 0.4914357661724, 0.9828715323448]\n",
       "2    [0.0, 0.8617069780326444, 1.7234139560652888, ...\n",
       "3        [0.0, -1.700752193853906, -3.401504387707812]\n",
       "dtype: object"
      ]
     },
     "execution_count": 297,
     "metadata": {},
     "output_type": "execute_result"
    }
   ],
   "source": [
    "sl.apply(lambda x: linear(int(x[0]), a=x[1]), axis=1, reduce=True)"
   ]
  },
  {
   "cell_type": "code",
   "execution_count": null,
   "metadata": {},
   "outputs": [],
   "source": []
  },
  {
   "cell_type": "code",
   "execution_count": null,
   "metadata": {},
   "outputs": [],
   "source": []
  }
 ],
 "metadata": {
  "kernelspec": {
   "display_name": "Python 3",
   "language": "python",
   "name": "python3"
  },
  "language_info": {
   "codemirror_mode": {
    "name": "ipython",
    "version": 3
   },
   "file_extension": ".py",
   "mimetype": "text/x-python",
   "name": "python",
   "nbconvert_exporter": "python",
   "pygments_lexer": "ipython3",
   "version": "3.7.5"
  }
 },
 "nbformat": 4,
 "nbformat_minor": 2
}
