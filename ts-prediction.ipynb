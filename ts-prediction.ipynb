{
 "cells": [
  {
   "cell_type": "code",
   "execution_count": 268,
   "metadata": {},
   "outputs": [],
   "source": [
    "import numpy as np\n",
    "import scipy as sp\n",
    "import pandas as pd\n",
    "\n",
    "import matplotlib.pyplot as plt\n",
    "import seaborn as sns\n",
    "\n",
    "import numpy.random as rnd\n",
    "rnd.seed(42)\n",
    "\n",
    "from collections import namedtuple\n",
    "\n",
    "from operator import itemgetter\n",
    "from itertools import accumulate, chain\n",
    "from functools import reduce"
   ]
  },
  {
   "cell_type": "markdown",
   "metadata": {},
   "source": [
    "# Utils"
   ]
  },
  {
   "cell_type": "code",
   "execution_count": 336,
   "metadata": {},
   "outputs": [],
   "source": [
    "def random_walk(size, mean=0, sd=1, start=0):\n",
    "    sample = np.cumsum(rnd.normal(loc=mean, scale=sd, size=size))\n",
    "    return pd.Series(sample + start - sample[0])\n",
    "    \n",
    "def slopes(limit, apfreq, mean=0, sd=1):\n",
    "    counts = np.ceil(rnd.exponential(size=limit, scale=apfreq)).astype(np.int64)\n",
    "    counts = counts[counts.cumsum() <= limit]\n",
    "    counts = np.append(counts, limit - counts.sum())\n",
    "    slopes = rnd.normal(size=len(counts), loc=mean, scale=sd)\n",
    "    return pd.DataFrame({'count': counts, 'slope': slopes})\n",
    "    \n",
    "def piecewise_linear(slopes, start=0):\n",
    "    series = np.zeros(slopes['count'].sum())\n",
    "    offset = 0\n",
    "    for index, row in slopes.iterrows():\n",
    "        count = int(row['count'])\n",
    "        series[offset:(count+offset)] = linear(size=int(count), a=row['slope'], b=series[offset-1], series=False)\n",
    "        offset += count\n",
    "    return pd.Series(series)    \n",
    "    \n",
    "def linear(size, a=1., b=0., series=True):\n",
    "    arr = a * (np.arange(size) + 1) + b\n",
    "    return pd.Series(arr) if series else arr"
   ]
  },
  {
   "cell_type": "code",
   "execution_count": 337,
   "metadata": {},
   "outputs": [],
   "source": [
    "def filter_series(series, filt, drop_na=False):\n",
    "    win_size = len(filt)\n",
    "    res =  series.rolling(win_size).apply(lambda w: w.dot(filt), raw=False)\n",
    "    return res.dropna() if drop_na else res\n",
    "\n",
    "def diff_series(series, drop_na=False):\n",
    "    filt = np.array([-1, 1])\n",
    "    return filter_series(series, filt, drop_na)"
   ]
  },
  {
   "cell_type": "markdown",
   "metadata": {},
   "source": [
    "# Описание модели"
   ]
  },
  {
   "cell_type": "markdown",
   "metadata": {},
   "source": [
    "Мы рассмотрим ряд, который имеет следующую модель: $$x_t = x_{t-1} + a_t + \\epsilon_t\\,$$ где $a_t \\sim \\mathcal{N}(\\mu, \\sigma_1)$ --- скорость изменения линейного тренда, которая выбирается случайно из нормального распределения раз в $t \\sim \\mathcal{Exp}(\\lambda)$, $\\epsilon_t \\sim \\mathcal{N}(0, \\sigma_2)$"
   ]
  },
  {
   "cell_type": "markdown",
   "metadata": {},
   "source": [
    "Пусть у нас есть ряд длины $N$. Наша задача предсказать значение в $N+1$ точке. Заметим, что на промежутке с постоянным значением $a_t=a$ (не умаляя общности рассмотрим $t \\in [0, T]$): $$x_t = x_0 + a \\cdot t + \\sum_{i=1}^{T}{\\epsilon_i} = x_0 + a \\cdot t + W_{t-1},$$ где $W_t$ --- винеровский процесс. Получается: $x_t - x_{t-1} = a + \\epsilon_t,$ и возможно без труда найти оценку угла наклона, необходимо лишь определится с размером окна"
   ]
  },
  {
   "cell_type": "code",
   "execution_count": 338,
   "metadata": {},
   "outputs": [],
   "source": [
    "Prediction = namedtuple('Prediction', ['Series', 'Prediction', 'Slope', 'Model'])\n",
    "\n",
    "class SimpleLinearModel(object):\n",
    "    def __init__(self, min_window=1, max_window=-1, window_step=1):\n",
    "        self._window_step = window_step\n",
    "        self._max_window = max_window\n",
    "        self._min_window = min_window\n",
    "        self._fitted_window = None\n",
    "        self._window_scores = None\n",
    "        \n",
    "    @property\n",
    "    def window_step(self):\n",
    "        return self._window_step\n",
    "    \n",
    "    @window_step.setter\n",
    "    def window_step(self, new_step):\n",
    "        self._window_step = new_step\n",
    "        \n",
    "    @property\n",
    "    def max_window(self):\n",
    "        return self._max_window\n",
    "    \n",
    "    @max_window.setter\n",
    "    def max_window(self, new_max):\n",
    "        self._max_window = new_max\n",
    "    \n",
    "    @property\n",
    "    def min_window(self):\n",
    "        return self._min_window\n",
    "    \n",
    "    @min_window.setter\n",
    "    def min_window(self, new_min):\n",
    "        self._min_window = new_min\n",
    "    \n",
    "    @property\n",
    "    def win_scores(self):\n",
    "        return self._window_scores\n",
    "    \n",
    "    @property\n",
    "    def fitted_window(self):\n",
    "        return self._fitted_window\n",
    "    \n",
    "    @staticmethod\n",
    "    def _gen_eval_window(length):\n",
    "        filt = np.ones(length + 1)\n",
    "        filt[0:length] /= -length\n",
    "        return filt\n",
    "    \n",
    "    def fit(self, series):\n",
    "        scores = []\n",
    "        diff = diff_series(series, drop_na=True)\n",
    "        \n",
    "        max_window = self._max_window if self._max_window > 0 else len(diff) - 1\n",
    "        for i in range(self._min_window, self._max_window, self._window_step):\n",
    "            eval_filt = SimpleLinear._gen_eval_window(i)\n",
    "            scores.append((i + 1, (apply_filter(diff, eval_filt, drop_na=True) ** 2).mean()))\n",
    "        \n",
    "        self._window_scores = sorted(scores, key=itemgetter(1))\n",
    "        self._fitted_window = self._window_scores[0][0]\n",
    "        \n",
    "        return self\n",
    "        \n",
    "    def predict(self, series, length):\n",
    "        if len(series) < self._fitted_window:\n",
    "            raise Exception(f\"Length of a series must be at least {self._fitted_window} to make a prediction\")\n",
    "        \n",
    "        slope = diff_series(series.tail(self._fitted_window)).mean()\n",
    "        pred_idx = np.arange(length) + len(series)\n",
    "        prediction = pd.Series(slope * (np.arange(length) + 1) + series[len(series) - 1], index=pred_idx)\n",
    "        return Prediction(Prediction=prediction, Series=series, Slope=slope, Model=self)"
   ]
  },
  {
   "cell_type": "code",
   "execution_count": 339,
   "metadata": {},
   "outputs": [],
   "source": [
    "sl = slopes(1000, 200, mean=0.1, sd = 1)\n",
    "ln = piecewise_linear(sl)\n",
    "rw = random_walk(1000, sd=10)\n",
    "series = ln + rw"
   ]
  },
  {
   "cell_type": "code",
   "execution_count": 340,
   "metadata": {},
   "outputs": [
    {
     "data": {
      "text/plain": [
       "[<matplotlib.lines.Line2D at 0x7fcdb1dd9110>]"
      ]
     },
     "execution_count": 340,
     "metadata": {},
     "output_type": "execute_result"
    },
    {
     "data": {
      "image/png": "[encoded data removed]",
      "text/plain": [
       "<Figure size 432x288 with 1 Axes>"
      ]
     },
     "metadata": {
      "needs_background": "light"
     },
     "output_type": "display_data"
    }
   ],
   "source": [
    "plt.plot(series)"
   ]
  },
  {
   "cell_type": "code",
   "execution_count": 341,
   "metadata": {},
   "outputs": [
    {
     "data": {
      "text/plain": [
       "[<matplotlib.lines.Line2D at 0x7fcdb1d4f5d0>]"
      ]
     },
     "execution_count": 341,
     "metadata": {},
     "output_type": "execute_result"
    },
    {
     "data": {
      "image/png": "[encoded data removed]",
      "text/plain": [
       "<Figure size 432x288 with 1 Axes>"
      ]
     },
     "metadata": {
      "needs_background": "light"
     },
     "output_type": "display_data"
    }
   ],
   "source": [
    "plt.plot(rw)"
   ]
  },
  {
   "cell_type": "code",
   "execution_count": 342,
   "metadata": {},
   "outputs": [
    {
     "data": {
      "text/plain": [
       "[<matplotlib.lines.Line2D at 0x7fcdb1cf1fd0>]"
      ]
     },
     "execution_count": 342,
     "metadata": {},
     "output_type": "execute_result"
    },
    {
     "data": {
      "image/png": "[encoded data removed]",
      "text/plain": [
       "<Figure size 432x288 with 1 Axes>"
      ]
     },
     "metadata": {
      "needs_background": "light"
     },
     "output_type": "display_data"
    }
   ],
   "source": [
    "plt.plot(ln)"
   ]
  },
  {
   "cell_type": "code",
   "execution_count": 343,
   "metadata": {},
   "outputs": [],
   "source": [
    "model = SimpleLinearModel(min_window=1, max_window=10, window_step=2)\n",
    "model = model.fit(series)"
   ]
  },
  {
   "cell_type": "code",
   "execution_count": 344,
   "metadata": {},
   "outputs": [
    {
     "data": {
      "text/plain": [
       "10"
      ]
     },
     "execution_count": 344,
     "metadata": {},
     "output_type": "execute_result"
    }
   ],
   "source": [
    "model.fitted_window"
   ]
  },
  {
   "cell_type": "code",
   "execution_count": 346,
   "metadata": {},
   "outputs": [],
   "source": [
    "pred = model.predict(series, 10)"
   ]
  },
  {
   "cell_type": "code",
   "execution_count": 348,
   "metadata": {},
   "outputs": [
    {
     "data": {
      "text/plain": [
       "[<matplotlib.lines.Line2D at 0x7fcdb1b64cd0>]"
      ]
     },
     "execution_count": 348,
     "metadata": {},
     "output_type": "execute_result"
    },
    {
     "data": {
      "image/png": "[encoded data removed]",
      "text/plain": [
       "<Figure size 432x288 with 1 Axes>"
      ]
     },
     "metadata": {
      "needs_background": "light"
     },
     "output_type": "display_data"
    }
   ],
   "source": [
    "plt.plot(series)\n",
    "plt.plot(pred.Prediction)"
   ]
  },
  {
   "cell_type": "code",
   "execution_count": 349,
   "metadata": {},
   "outputs": [
    {
     "data": {
      "text/plain": [
       "4.66844666562363"
      ]
     },
     "execution_count": 349,
     "metadata": {},
     "output_type": "execute_result"
    }
   ],
   "source": [
    "pred.Slope"
   ]
  },
  {
   "cell_type": "code",
   "execution_count": 351,
   "metadata": {},
   "outputs": [
    {
     "data": {
      "text/html": [
       "<div>\n",
       "<style scoped>\n",
       "    .dataframe tbody tr th:only-of-type {\n",
       "        vertical-align: middle;\n",
       "    }\n",
       "\n",
       "    .dataframe tbody tr th {\n",
       "        vertical-align: top;\n",
       "    }\n",
       "\n",
       "    .dataframe thead th {\n",
       "        text-align: right;\n",
       "    }\n",
       "</style>\n",
       "<table border=\"1\" class=\"dataframe\">\n",
       "  <thead>\n",
       "    <tr style=\"text-align: right;\">\n",
       "      <th></th>\n",
       "      <th>count</th>\n",
       "      <th>slope</th>\n",
       "    </tr>\n",
       "  </thead>\n",
       "  <tbody>\n",
       "    <tr>\n",
       "      <th>0</th>\n",
       "      <td>12</td>\n",
       "      <td>-1.302369</td>\n",
       "    </tr>\n",
       "    <tr>\n",
       "      <th>1</th>\n",
       "      <td>123</td>\n",
       "      <td>2.191094</td>\n",
       "    </tr>\n",
       "    <tr>\n",
       "      <th>2</th>\n",
       "      <td>160</td>\n",
       "      <td>0.077564</td>\n",
       "    </tr>\n",
       "    <tr>\n",
       "      <th>3</th>\n",
       "      <td>438</td>\n",
       "      <td>0.042049</td>\n",
       "    </tr>\n",
       "    <tr>\n",
       "      <th>4</th>\n",
       "      <td>23</td>\n",
       "      <td>0.688077</td>\n",
       "    </tr>\n",
       "    <tr>\n",
       "      <th>5</th>\n",
       "      <td>244</td>\n",
       "      <td>1.062345</td>\n",
       "    </tr>\n",
       "  </tbody>\n",
       "</table>\n",
       "</div>"
      ],
      "text/plain": [
       "   count     slope\n",
       "0     12 -1.302369\n",
       "1    123  2.191094\n",
       "2    160  0.077564\n",
       "3    438  0.042049\n",
       "4     23  0.688077\n",
       "5    244  1.062345"
      ]
     },
     "execution_count": 351,
     "metadata": {},
     "output_type": "execute_result"
    }
   ],
   "source": [
    "sl"
   ]
  },
  {
   "cell_type": "code",
   "execution_count": null,
   "metadata": {},
   "outputs": [],
   "source": []
  }
 ],
 "metadata": {
  "kernelspec": {
   "display_name": "Python 3",
   "language": "python",
   "name": "python3"
  },
  "language_info": {
   "codemirror_mode": {
    "name": "ipython",
    "version": 3
   },
   "file_extension": ".py",
   "mimetype": "text/x-python",
   "name": "python",
   "nbconvert_exporter": "python",
   "pygments_lexer": "ipython3",
   "version": "3.7.5"
  }
 },
 "nbformat": 4,
 "nbformat_minor": 2
}
