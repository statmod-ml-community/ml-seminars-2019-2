{
 "cells": [
  {
   "cell_type": "code",
   "execution_count": 2,
   "metadata": {},
   "outputs": [],
   "source": [
    "import numpy as np\n",
    "import scipy as sp\n",
    "import pandas as pd\n",
    "\n",
    "import matplotlib.pyplot as plt\n",
    "import seaborn as sns\n",
    "\n",
    "import numpy.random as rnd\n",
    "rnd.seed(42)\n",
    "\n",
    "from collections import namedtuple\n",
    "\n",
    "from operator import itemgetter\n",
    "from itertools import accumulate, chain\n",
    "from functools import reduce"
   ]
  },
  {
   "cell_type": "markdown",
   "metadata": {},
   "source": [
    "# Utils"
   ]
  },
  {
   "cell_type": "code",
   "execution_count": 61,
   "metadata": {},
   "outputs": [],
   "source": [
    "def random_walk(size, mean=0, sd=1, start=0):\n",
    "    sample = np.cumsum(rnd.normal(loc=mean, scale=sd, size=size))\n",
    "    return sample + start - sample[0]\n",
    "    \n",
    "def slopes(limit, apfreq, mean=0, sd=1):\n",
    "    if not apfreq:\n",
    "        return {'counts': np.array([limit], dtype=np.int64), 'slopes': rnd.normal(size=1, loc=mean, scale=sd)}\n",
    "    counts = np.ceil(rnd.exponential(size=limit, scale=apfreq)).astype(np.int64)\n",
    "    counts = counts[counts.cumsum() <= limit]\n",
    "    counts = np.append(counts, limit - counts.sum())\n",
    "    slopes = rnd.normal(size=len(counts), loc=mean, scale=sd)\n",
    "    return {'counts': counts, 'slopes': slopes}\n",
    "    \n",
    "def piecewise_linear(slopes, start=0):\n",
    "    series = np.zeros(slopes['counts'].sum())\n",
    "    offset = 0\n",
    "    for count, slope in zip(slopes['counts'], slopes['slopes']):\n",
    "        series[offset:(count + offset)] = linear(count, a=slope, b=series[offset - 1])\n",
    "        offset += count\n",
    "    return series    \n",
    "    \n",
    "def linear(size, a=1., b=0.):\n",
    "    return a * (np.arange(size) + 1) + b\n",
    "\n",
    "def diff_series(series):\n",
    "    return series[1:] - series[:-1]"
   ]
  },
  {
   "cell_type": "markdown",
   "metadata": {},
   "source": [
    "# Описание модели"
   ]
  },
  {
   "cell_type": "markdown",
   "metadata": {},
   "source": [
    "Мы рассмотрим ряд, который имеет следующую модель: $$x_t = x_{t-1} + a_t + \\epsilon_t\\,$$ где $a_t \\sim \\mathcal{N}(\\mu, \\sigma_1)$ --- скорость изменения линейного тренда, которая выбирается случайно из нормального распределения раз в $t \\sim \\mathcal{Exp}(\\lambda)$, $\\epsilon_t \\sim \\mathcal{N}(0, \\sigma_2)$"
   ]
  },
  {
   "cell_type": "markdown",
   "metadata": {},
   "source": [
    "Пусть у нас есть ряд длины $N$. Наша задача предсказать значение в $N+1$ точке. Заметим, что на промежутке с постоянным значением $a_t=a$ (не умаляя общности рассмотрим $t \\in [0, T]$): $$x_t = x_0 + a \\cdot t + \\sum_{i=1}^{t}{\\epsilon_i} = x_0 + a \\cdot t + W_{t},$$ где $W_t$ --- винеровский процесс. Получается: $x_t - x_{t-1} = a + \\epsilon_t,$ и возможно без труда найти оценку угла наклона, необходимо лишь определится с размером окна"
   ]
  },
  {
   "cell_type": "code",
   "execution_count": 92,
   "metadata": {},
   "outputs": [],
   "source": [
    "Prediction = namedtuple('Prediction', ['Series', 'Prediction', 'Slope', 'Model'])\n",
    "\n",
    "class LinearForecaster(object):\n",
    "    def __init__(self, min_window=2, max_window=None, window_step=1):\n",
    "        self._window_step = window_step\n",
    "        self._max_window = max_window\n",
    "        self._min_window = min_window\n",
    "        self._fitted_window = None\n",
    "        self._window_scores = None\n",
    "        \n",
    "    @property\n",
    "    def window_step(self):\n",
    "        return self._window_step\n",
    "    \n",
    "    @window_step.setter\n",
    "    def window_step(self, new_step):\n",
    "        self._window_step = new_step\n",
    "        \n",
    "    @property\n",
    "    def max_window(self):\n",
    "        return self._max_window\n",
    "    \n",
    "    @max_window.setter\n",
    "    def max_window(self, new_max):\n",
    "        self._max_window = new_max\n",
    "    \n",
    "    @property\n",
    "    def min_window(self):\n",
    "        return self._min_window\n",
    "    \n",
    "    @min_window.setter\n",
    "    def min_window(self, new_min):\n",
    "        self._min_window = new_min\n",
    "    \n",
    "    @property\n",
    "    def win_scores(self):\n",
    "        return self._window_scores\n",
    "    \n",
    "    @property\n",
    "    def fitted_window(self):\n",
    "        return self._fitted_window\n",
    "    \n",
    "    def fit(self, series):            \n",
    "        scores = []\n",
    "        diff = diff_series(series)\n",
    "        max_window = self._max_window if self._max_window else len(series) // 2\n",
    "        for i in range(self._min_window - 1, max_window, self._window_step):\n",
    "            slope_evals = (diff[i:-1] - diff[:-i-1]) / (i + 1)\n",
    "            slope_score = ((diff[i+1:] - slope_evals) ** 2).mean()\n",
    "            scores.append((i+1, slope_score))\n",
    "        \n",
    "        self._window_scores = sorted(scores, key=itemgetter(1))\n",
    "        self._fitted_window = self._window_scores[0][0]\n",
    "        \n",
    "        return self\n",
    "        \n",
    "    def predict(self, series):\n",
    "        if len(series) < self._fitted_window:\n",
    "            raise Exception(f\"Length of a series must be at least {self._fitted_window} to make a prediction\")\n",
    "            \n",
    "        slope = (series[-1] - series[-self._fitted_window]) / self._fitted_window\n",
    "        prediction = slope + series[-1]\n",
    "        return Prediction(Prediction=prediction, Series=series, Slope=slope, Model=self)"
   ]
  },
  {
   "cell_type": "code",
   "execution_count": 73,
   "metadata": {},
   "outputs": [],
   "source": [
    "class PreviousForecaster(object):\n",
    "    @property\n",
    "    def fitted_window(self):\n",
    "        return 1\n",
    "    \n",
    "    def fit(self, series):\n",
    "        return self\n",
    "    \n",
    "    def predict(self, series):\n",
    "        return Prediction(Series=series, Prediction=series[-1], Slope=None, Model=self)"
   ]
  },
  {
   "cell_type": "markdown",
   "metadata": {},
   "source": [
    "Как выглядит временно1 ряд и ранзности. Мы зададим небольшую дисперсию у случайных величин $\\epsilon_i$, чтобы уменьшить влияние шума для демострации:"
   ]
  },
  {
   "cell_type": "code",
   "execution_count": 45,
   "metadata": {},
   "outputs": [],
   "source": [
    "dem_sl = slopes(1000, 200, mean=0, sd=1)\n",
    "dem_ln = piecewise_linear(dem_sl)\n",
    "dem_rw = random_walk(1000, sd=0.3)\n",
    "dem_series = dem_ln + dem_rw"
   ]
  },
  {
   "cell_type": "code",
   "execution_count": 46,
   "metadata": {},
   "outputs": [
    {
     "data": {
      "text/plain": [
       "[<matplotlib.lines.Line2D at 0x7ff74bb4ced0>]"
      ]
     },
     "execution_count": 46,
     "metadata": {},
     "output_type": "execute_result"
    },
    {
     "data": {
      "image/png": "[encoded data removed]",
      "text/plain": [
       "<Figure size 432x288 with 1 Axes>"
      ]
     },
     "metadata": {
      "needs_background": "light"
     },
     "output_type": "display_data"
    }
   ],
   "source": [
    "plt.plot(dem_series)"
   ]
  },
  {
   "cell_type": "code",
   "execution_count": 48,
   "metadata": {},
   "outputs": [
    {
     "data": {
      "text/plain": [
       "[<matplotlib.lines.Line2D at 0x7ff74bc87710>]"
      ]
     },
     "execution_count": 48,
     "metadata": {},
     "output_type": "execute_result"
    },
    {
     "data": {
      "image/png": "[encoded data removed]",
      "text/plain": [
       "<Figure size 432x288 with 1 Axes>"
      ]
     },
     "metadata": {
      "needs_background": "light"
     },
     "output_type": "display_data"
    }
   ],
   "source": [
    "plt.plot(diff_series(dem_series))"
   ]
  },
  {
   "cell_type": "markdown",
   "metadata": {},
   "source": [
    "Размеется, определение коэффициента наклона для такого ряда задача несложная: шум не перекрывает тренд ряда. Для экспериментов мы увеличим дисперсию шума: "
   ]
  },
  {
   "cell_type": "code",
   "execution_count": 106,
   "metadata": {},
   "outputs": [],
   "source": [
    "size = 1000\n",
    "sl = slopes(size, 200, sd=0.25)\n",
    "ln = piecewise_linear(sl)\n",
    "rw = random_walk(size, sd=1)\n",
    "series = ln + rw"
   ]
  },
  {
   "cell_type": "code",
   "execution_count": 107,
   "metadata": {},
   "outputs": [
    {
     "data": {
      "text/plain": [
       "[<matplotlib.lines.Line2D at 0x7ff749eb6810>]"
      ]
     },
     "execution_count": 107,
     "metadata": {},
     "output_type": "execute_result"
    },
    {
     "data": {
      "image/png": "[encoded data removed]",
      "text/plain": [
       "<Figure size 432x288 with 1 Axes>"
      ]
     },
     "metadata": {
      "needs_background": "light"
     },
     "output_type": "display_data"
    }
   ],
   "source": [
    "plt.plot(series)"
   ]
  },
  {
   "cell_type": "code",
   "execution_count": 108,
   "metadata": {},
   "outputs": [
    {
     "data": {
      "text/plain": [
       "[<matplotlib.lines.Line2D at 0x7ff749e73ed0>]"
      ]
     },
     "execution_count": 108,
     "metadata": {},
     "output_type": "execute_result"
    },
    {
     "data": {
      "image/png": "[encoded data removed]",
      "text/plain": [
       "<Figure size 432x288 with 1 Axes>"
      ]
     },
     "metadata": {
      "needs_background": "light"
     },
     "output_type": "display_data"
    }
   ],
   "source": [
    "plt.plot(ln)"
   ]
  },
  {
   "cell_type": "code",
   "execution_count": 109,
   "metadata": {},
   "outputs": [],
   "source": [
    "model = LinearForecaster()\n",
    "model = model.fit(series)"
   ]
  },
  {
   "cell_type": "code",
   "execution_count": 110,
   "metadata": {},
   "outputs": [
    {
     "data": {
      "text/plain": [
       "157"
      ]
     },
     "execution_count": 110,
     "metadata": {},
     "output_type": "execute_result"
    }
   ],
   "source": [
    "model.fitted_window"
   ]
  },
  {
   "cell_type": "code",
   "execution_count": 111,
   "metadata": {},
   "outputs": [],
   "source": [
    "pred = model.predict(series)"
   ]
  },
  {
   "cell_type": "code",
   "execution_count": 112,
   "metadata": {},
   "outputs": [
    {
     "data": {
      "text/plain": [
       "0.4414337474865085"
      ]
     },
     "execution_count": 112,
     "metadata": {},
     "output_type": "execute_result"
    }
   ],
   "source": [
    "pred.Slope"
   ]
  },
  {
   "cell_type": "code",
   "execution_count": 116,
   "metadata": {},
   "outputs": [
    {
     "name": "stdout",
     "output_type": "stream",
     "text": [
      "Help on built-in function arange in module numpy:\n",
      "\n",
      "arange(...)\n",
      "    arange([start,] stop[, step,], dtype=None)\n",
      "    \n",
      "    Return evenly spaced values within a given interval.\n",
      "    \n",
      "    Values are generated within the half-open interval ``[start, stop)``\n",
      "    (in other words, the interval including `start` but excluding `stop`).\n",
      "    For integer arguments the function is equivalent to the Python built-in\n",
      "    `range` function, but returns an ndarray rather than a list.\n",
      "    \n",
      "    When using a non-integer step, such as 0.1, the results will often not\n",
      "    be consistent.  It is better to use `numpy.linspace` for these cases.\n",
      "    \n",
      "    Parameters\n",
      "    ----------\n",
      "    start : number, optional\n",
      "        Start of interval.  The interval includes this value.  The default\n",
      "        start value is 0.\n",
      "    stop : number\n",
      "        End of interval.  The interval does not include this value, except\n",
      "        in some cases where `step` is not an integer and floating point\n",
      "        round-off affects the length of `out`.\n",
      "    step : number, optional\n",
      "        Spacing between values.  For any output `out`, this is the distance\n",
      "        between two adjacent values, ``out[i+1] - out[i]``.  The default\n",
      "        step size is 1.  If `step` is specified as a position argument,\n",
      "        `start` must also be given.\n",
      "    dtype : dtype\n",
      "        The type of the output array.  If `dtype` is not given, infer the data\n",
      "        type from the other input arguments.\n",
      "    \n",
      "    Returns\n",
      "    -------\n",
      "    arange : ndarray\n",
      "        Array of evenly spaced values.\n",
      "    \n",
      "        For floating point arguments, the length of the result is\n",
      "        ``ceil((stop - start)/step)``.  Because of floating point overflow,\n",
      "        this rule may result in the last element of `out` being greater\n",
      "        than `stop`.\n",
      "    \n",
      "    See Also\n",
      "    --------\n",
      "    linspace : Evenly spaced numbers with careful handling of endpoints.\n",
      "    ogrid: Arrays of evenly spaced numbers in N-dimensions.\n",
      "    mgrid: Grid-shaped arrays of evenly spaced numbers in N-dimensions.\n",
      "    \n",
      "    Examples\n",
      "    --------\n",
      "    >>> np.arange(3)\n",
      "    array([0, 1, 2])\n",
      "    >>> np.arange(3.0)\n",
      "    array([ 0.,  1.,  2.])\n",
      "    >>> np.arange(3,7)\n",
      "    array([3, 4, 5, 6])\n",
      "    >>> np.arange(3,7,2)\n",
      "    array([3, 5])\n",
      "\n"
     ]
    }
   ],
   "source": [
    "help(np.arange)"
   ]
  },
  {
   "cell_type": "code",
   "execution_count": 165,
   "metadata": {},
   "outputs": [],
   "source": [
    "ExperimentResult = namedtuple('ExperimentResult', ['Name', 'AvgMSE', 'AvgWin'])\n",
    "\n",
    "def run_experiments(size, apfreq, slm=0, slsd=0.1, rwsd=1, test_frac=0.25, repeat=100):\n",
    "    \"\"\"\n",
    "    These are the parameters configuring timeseries generation:\n",
    "    'size' is the length of a generated time series\n",
    "    'apfreq' is the APproximate FREQuncy of the slope changing \n",
    "    'slm' stands for the 'SLope Mean'\n",
    "    'slsd' stands for the 'SLope Standard Deviation'\n",
    "    'rwsd' stands for the 'Random Walk Standard Deviation'\n",
    "    \n",
    "    'test_frac' sets the fraction of a series to be used for evaluation of models\n",
    "    'repeat' sets the number of repetition of the experiment\n",
    "    \n",
    "    The result is a tuple of ExperimentResult tuples for LinerPredictor model and PreviousPredictor model\n",
    "    \"\"\"\n",
    "    lin_mse_hist = []\n",
    "    lin_win_hist = []\n",
    "    \n",
    "    prev_mse_hist = []\n",
    "    \n",
    "    train_size = size - int(size * test_frac)    \n",
    "    def gen_time_series():\n",
    "        series = piecewise_linear(slopes(size, apfreq, mean=slm, sd=slsd)) + random_walk(size, sd=rwsd)\n",
    "        return series[:train_size], series[train_size:]\n",
    "    \n",
    "    def eval_model(model, train, test):\n",
    "        win = model.fitted_window\n",
    "        test = np.concatenate([train[-win:], test])\n",
    "        predict = lambda o: (test[o+win+1] - model.predict(test[o:(o+win)]).Prediction) ** 2\n",
    "        predict = np.vectorize(predict)\n",
    "        return predict(np.arange(len(test) - win - 1)).mean()\n",
    "        \n",
    "    def run_experiment():\n",
    "        train, test = gen_time_series()\n",
    "        \n",
    "        lin_model = LinearForecaster(max_window=int(0.75 * len(train)))\n",
    "        lin_model = lin_model.fit(train)\n",
    "        lin_mse = eval_model(lin_model, train, test)\n",
    "        \n",
    "        prev_model = PreviousForecaster()\n",
    "        prev_mse = eval_model(prev_model, train, test)\n",
    "        \n",
    "        return lin_mse, lin_model.fitted_window, prev_mse, 1 \n",
    "        \n",
    "    for i in range(repeat):\n",
    "        lin_mse, lin_win, prev_mse, _ = run_experiment()\n",
    "        lin_mse_hist.append(lin_mse)\n",
    "        lin_win_hist.append(lin_win)\n",
    "        prev_mse_hist.append(prev_mse)\n",
    "    \n",
    "    return (ExperimentResult(Name='Linear', AvgMSE=np.mean(lin_mse_hist), AvgWin=np.mean(lin_win_hist)),\n",
    "            ExperimentResult(Name='Prev', AvgMSE=np.mean(prev_mse_hist), AvgWin=1))"
   ]
  },
  {
   "cell_type": "code",
   "execution_count": 175,
   "metadata": {},
   "outputs": [
    {
     "data": {
      "text/plain": [
       "(ExperimentResult(Name='Linear', AvgMSE=5.08759641551618, AvgWin=2065.854),\n",
       " ExperimentResult(Name='Prev', AvgMSE=5.920799093052998, AvgWin=1))"
      ]
     },
     "execution_count": 175,
     "metadata": {},
     "output_type": "execute_result"
    }
   ],
   "source": [
    "run_experiments(10000, 250, slm=0., slsd=1, rwsd=1, test_frac=0.2, repeat=500)"
   ]
  },
  {
   "cell_type": "code",
   "execution_count": 176,
   "metadata": {},
   "outputs": [
    {
     "data": {
      "text/plain": [
       "6000.0"
      ]
     },
     "execution_count": 176,
     "metadata": {},
     "output_type": "execute_result"
    }
   ],
   "source": [
    "0.75 * 8000"
   ]
  },
  {
   "cell_type": "code",
   "execution_count": null,
   "metadata": {},
   "outputs": [],
   "source": []
  }
 ],
 "metadata": {
  "kernelspec": {
   "display_name": "Python 3",
   "language": "python",
   "name": "python3"
  },
  "language_info": {
   "codemirror_mode": {
    "name": "ipython",
    "version": 3
   },
   "file_extension": ".py",
   "mimetype": "text/x-python",
   "name": "python",
   "nbconvert_exporter": "python",
   "pygments_lexer": "ipython3",
   "version": "3.7.5"
  }
 },
 "nbformat": 4,
 "nbformat_minor": 2
}
