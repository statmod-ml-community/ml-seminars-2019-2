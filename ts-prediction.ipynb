{
 "cells": [
  {
   "cell_type": "code",
   "execution_count": 1,
   "metadata": {},
   "outputs": [],
   "source": [
    "import numpy as np\n",
    "import scipy as sp\n",
    "import pandas as pd\n",
    "\n",
    "import matplotlib.pyplot as plt\n",
    "import seaborn as sns\n",
    "\n",
    "import numpy.random as rnd\n",
    "rnd.seed(42)\n",
    "\n",
    "from collections import namedtuple\n",
    "\n",
    "from operator import itemgetter\n",
    "from itertools import accumulate, chain\n",
    "from functools import reduce"
   ]
  },
  {
   "cell_type": "markdown",
   "metadata": {},
   "source": [
    "# Utils"
   ]
  },
  {
   "cell_type": "code",
   "execution_count": 2,
   "metadata": {},
   "outputs": [],
   "source": [
    "def random_walk(size, mean=0, sd=1, start=0):\n",
    "    sample = np.cumsum(rnd.normal(loc=mean, scale=sd, size=size))\n",
    "    return pd.Series(sample + start - sample[0])\n",
    "    \n",
    "def slopes(limit, apfreq, mean=0, sd=1):\n",
    "    counts = np.ceil(rnd.exponential(size=limit, scale=apfreq)).astype(np.int64)\n",
    "    counts = counts[counts.cumsum() <= limit]\n",
    "    counts = np.append(counts, limit - counts.sum())\n",
    "    slopes = rnd.normal(size=len(counts), loc=mean, scale=sd)\n",
    "    return pd.DataFrame({'count': counts, 'slope': slopes})\n",
    "    \n",
    "def piecewise_linear(slopes, start=0):\n",
    "    series = np.zeros(slopes['count'].sum())\n",
    "    offset = 0\n",
    "    for index, row in slopes.iterrows():\n",
    "        count = int(row['count'])\n",
    "        series[offset:(count+offset)] = linear(size=int(count), a=row['slope'], b=series[offset-1], series=False)\n",
    "        offset += count\n",
    "    return pd.Series(series)    \n",
    "    \n",
    "def linear(size, a=1., b=0., series=True):\n",
    "    arr = a * (np.arange(size) + 1) + b\n",
    "    return pd.Series(arr) if series else arr"
   ]
  },
  {
   "cell_type": "code",
   "execution_count": 3,
   "metadata": {},
   "outputs": [],
   "source": [
    "def filter_series(series, filt, drop_na=False):\n",
    "    win_size = len(filt)\n",
    "    res =  series.rolling(win_size).apply(lambda w: w.dot(filt), raw=False)\n",
    "    return res.dropna() if drop_na else res\n",
    "\n",
    "def diff_series(series, drop_na=False):\n",
    "    filt = np.array([-1, 1])\n",
    "    return filter_series(series, filt, drop_na)"
   ]
  },
  {
   "cell_type": "markdown",
   "metadata": {},
   "source": [
    "# Описание модели"
   ]
  },
  {
   "cell_type": "markdown",
   "metadata": {},
   "source": [
    "Мы рассмотрим ряд, который имеет следующую модель: $$x_t = x_{t-1} + a_t + \\epsilon_t\\,$$ где $a_t \\sim \\mathcal{N}(\\mu, \\sigma_1)$ --- скорость изменения линейного тренда, которая выбирается случайно из нормального распределения раз в $t \\sim \\mathcal{Exp}(\\lambda)$, $\\epsilon_t \\sim \\mathcal{N}(0, \\sigma_2)$"
   ]
  },
  {
   "cell_type": "markdown",
   "metadata": {},
   "source": [
    "Пусть у нас есть ряд длины $N$. Наша задача предсказать значение в $N+1$ точке. Заметим, что на промежутке с постоянным значением $a_t=a$ (не умаляя общности рассмотрим $t \\in [0, T]$): $$x_t = x_0 + a \\cdot t + \\sum_{i=1}^{t}{\\epsilon_i} = x_0 + a \\cdot t + W_{t},$$ где $W_t$ --- винеровский процесс. Получается: $x_t - x_{t-1} = a + \\epsilon_t,$ и возможно без труда найти оценку угла наклона, необходимо лишь определится с размером окна"
   ]
  },
  {
   "cell_type": "code",
   "execution_count": 162,
   "metadata": {},
   "outputs": [],
   "source": [
    "Prediction = namedtuple('Prediction', ['Series', 'Prediction', 'Slope', 'Model'])\n",
    "\n",
    "class LinearForecaster(object):\n",
    "    def __init__(self, min_window=1, max_window=-1, window_step=1):\n",
    "        self._window_step = window_step\n",
    "        self._max_window = max_window\n",
    "        self._min_window = min_window\n",
    "        self._fitted_window = None\n",
    "        self._window_scores = None\n",
    "        \n",
    "    @property\n",
    "    def window_step(self):\n",
    "        return self._window_step\n",
    "    \n",
    "    @window_step.setter\n",
    "    def window_step(self, new_step):\n",
    "        self._window_step = new_step\n",
    "        \n",
    "    @property\n",
    "    def max_window(self):\n",
    "        return self._max_window\n",
    "    \n",
    "    @max_window.setter\n",
    "    def max_window(self, new_max):\n",
    "        self._max_window = new_max\n",
    "    \n",
    "    @property\n",
    "    def min_window(self):\n",
    "        return self._min_window\n",
    "    \n",
    "    @min_window.setter\n",
    "    def min_window(self, new_min):\n",
    "        self._min_window = new_min\n",
    "    \n",
    "    @property\n",
    "    def win_scores(self):\n",
    "        return self._window_scores\n",
    "    \n",
    "    @property\n",
    "    def fitted_window(self):\n",
    "        return self._fitted_window\n",
    "    \n",
    "    @staticmethod\n",
    "    def _gen_eval_window(length):\n",
    "        filt = np.ones(length + 1)\n",
    "        filt[0:length] /= -length\n",
    "        return filt\n",
    "    \n",
    "    def fit(self, series):\n",
    "        if series is not pd.Series:\n",
    "            series = pd.Series(series)\n",
    "            \n",
    "        scores = []\n",
    "        diff = diff_series(series, drop_na=True)\n",
    "        \n",
    "        max_window = self._max_window if self._max_window > 0 else len(diff) - 1\n",
    "        for i in range(self._min_window, self._max_window, self._window_step):\n",
    "            eval_filt = LinearForecaster._gen_eval_window(i)\n",
    "            scores.append((i + 1, (filter_series(diff, eval_filt, drop_na=True) ** 2).mean()))\n",
    "        \n",
    "        self._window_scores = sorted(scores, key=itemgetter(1))\n",
    "        self._fitted_window = self._window_scores[0][0]\n",
    "        \n",
    "        return self\n",
    "        \n",
    "    def predict(self, series, length=1):\n",
    "        if len(series) < self._fitted_window:\n",
    "            raise Exception(f\"Length of a series must be at least {self._fitted_window} to make a prediction\")\n",
    "        \n",
    "        if type(series) is not pd.Series:\n",
    "            series = pd.Series(series)\n",
    "            \n",
    "        slope = diff_series(series.tail(self._fitted_window)).mean()\n",
    "        pred_idx = np.arange(length) + len(series)\n",
    "        prediction = pd.Series(slope * (np.arange(length) + 1) + series.tail(1).to_list()[0], index=pred_idx)\n",
    "        return Prediction(Prediction=prediction, Series=series, Slope=slope, Model=self)"
   ]
  },
  {
   "cell_type": "code",
   "execution_count": 150,
   "metadata": {},
   "outputs": [],
   "source": [
    "class PreviousForecaster(object):\n",
    "    @property\n",
    "    def fitted_window(self):\n",
    "        return 1\n",
    "    \n",
    "    def fit(self, series):\n",
    "        return self\n",
    "    \n",
    "    def predict(self, series):\n",
    "        if type(series) is not pd.Series:\n",
    "            series = pd.Series(series)\n",
    "            \n",
    "        prediction = pd.Series(series.tail(1).to_list(), index=[len(series)])\n",
    "        return Prediction(Series=series, Prediction=prediction, Slope=None, Model=self)"
   ]
  },
  {
   "cell_type": "markdown",
   "metadata": {},
   "source": [
    "Как выглядит временно1 ряд и ранзности. Мы зададим небольшую дисперсию у случайных величин $\\epsilon_i$, чтобы уменьшить влияние шума для демострации:"
   ]
  },
  {
   "cell_type": "code",
   "execution_count": 7,
   "metadata": {},
   "outputs": [],
   "source": [
    "dem_sl = slopes(1000, 200, mean=0, sd=1)\n",
    "dem_ln = piecewise_linear(dem_sl)\n",
    "dem_rw = random_walk(1000, sd=0.3)\n",
    "dem_series = dem_ln + dem_rw"
   ]
  },
  {
   "cell_type": "code",
   "execution_count": 8,
   "metadata": {},
   "outputs": [
    {
     "data": {
      "text/plain": [
       "[<matplotlib.lines.Line2D at 0x7ff129e3f0d0>]"
      ]
     },
     "execution_count": 8,
     "metadata": {},
     "output_type": "execute_result"
    },
    {
     "data": {
      "image/png": "[encoded data removed]",
      "text/plain": [
       "<Figure size 432x288 with 1 Axes>"
      ]
     },
     "metadata": {
      "needs_background": "light"
     },
     "output_type": "display_data"
    }
   ],
   "source": [
    "plt.plot(dem_series)"
   ]
  },
  {
   "cell_type": "code",
   "execution_count": 9,
   "metadata": {},
   "outputs": [
    {
     "data": {
      "text/plain": [
       "[<matplotlib.lines.Line2D at 0x7ff129d66510>]"
      ]
     },
     "execution_count": 9,
     "metadata": {},
     "output_type": "execute_result"
    },
    {
     "data": {
      "image/png": "[encoded data removed]",
      "text/plain": [
       "<Figure size 432x288 with 1 Axes>"
      ]
     },
     "metadata": {
      "needs_background": "light"
     },
     "output_type": "display_data"
    }
   ],
   "source": [
    "plt.plot(diff_series(dem_series, drop_na=True))"
   ]
  },
  {
   "cell_type": "markdown",
   "metadata": {},
   "source": [
    "Размеется, определение коэффициента наклона для такого ряда задача несложная: шум не перекрывает тренд ряда. Для экспериментов мы увеличим дисперсию шума: "
   ]
  },
  {
   "cell_type": "code",
   "execution_count": 257,
   "metadata": {},
   "outputs": [],
   "source": [
    "size = 1000\n",
    "sl = slopes(size, 200, sd=0.25)\n",
    "ln = piecewise_linear(sl)\n",
    "rw = random_walk(size, sd=1)\n",
    "series = ln + rw"
   ]
  },
  {
   "cell_type": "code",
   "execution_count": 258,
   "metadata": {},
   "outputs": [
    {
     "data": {
      "text/plain": [
       "[<matplotlib.lines.Line2D at 0x7ff123d5a490>]"
      ]
     },
     "execution_count": 258,
     "metadata": {},
     "output_type": "execute_result"
    },
    {
     "data": {
      "image/png": "[encoded data removed]",
      "text/plain": [
       "<Figure size 432x288 with 1 Axes>"
      ]
     },
     "metadata": {
      "needs_background": "light"
     },
     "output_type": "display_data"
    }
   ],
   "source": [
    "plt.plot(series)"
   ]
  },
  {
   "cell_type": "code",
   "execution_count": 259,
   "metadata": {},
   "outputs": [
    {
     "data": {
      "text/plain": [
       "[<matplotlib.lines.Line2D at 0x7ff123d3e4d0>]"
      ]
     },
     "execution_count": 259,
     "metadata": {},
     "output_type": "execute_result"
    },
    {
     "data": {
      "image/png": "[encoded data removed]",
      "text/plain": [
       "<Figure size 432x288 with 1 Axes>"
      ]
     },
     "metadata": {
      "needs_background": "light"
     },
     "output_type": "display_data"
    }
   ],
   "source": [
    "plt.plot(ln)"
   ]
  },
  {
   "cell_type": "code",
   "execution_count": 260,
   "metadata": {},
   "outputs": [],
   "source": [
    "model = LinearForecaster(min_window=5, max_window=500, window_step=5)\n",
    "model = model.fit(series)"
   ]
  },
  {
   "cell_type": "code",
   "execution_count": 261,
   "metadata": {},
   "outputs": [
    {
     "data": {
      "text/plain": [
       "476"
      ]
     },
     "execution_count": 261,
     "metadata": {},
     "output_type": "execute_result"
    }
   ],
   "source": [
    "model.fitted_window"
   ]
  },
  {
   "cell_type": "code",
   "execution_count": 262,
   "metadata": {},
   "outputs": [],
   "source": [
    "pred = model.predict(series)"
   ]
  },
  {
   "cell_type": "code",
   "execution_count": 263,
   "metadata": {},
   "outputs": [
    {
     "data": {
      "text/plain": [
       "-0.056602604045882784"
      ]
     },
     "execution_count": 263,
     "metadata": {},
     "output_type": "execute_result"
    }
   ],
   "source": [
    "pred.Slope"
   ]
  },
  {
   "cell_type": "code",
   "execution_count": 223,
   "metadata": {},
   "outputs": [],
   "source": [
    "ExperimentResult = namedtuple('ExperimentResult', ['Name', 'AvgMSE', 'AvgWin'])\n",
    "\n",
    "def run_experiments(size, apfreq, slm=0, slsd=0.1, rwsd=1, test_frac=0.3, repeat=100):\n",
    "    \"\"\"\n",
    "    These are the parameters configuring timeseries generation:\n",
    "    'size' is the length of a generated time series\n",
    "    'apfreq' is the APproximate FREQuncy of the slope changing \n",
    "    'slm' stands for the 'SLope Mean'\n",
    "    'slsd' stands for the 'SLope Standard Deviation'\n",
    "    'rwsd' stands for the 'Random Walk Standard Deviation'\n",
    "    \n",
    "    'test_frac' sets the fraction of a series to be used for evaluation of models\n",
    "    'repeat' sets the number of repetition of the experiment\n",
    "    \n",
    "    The result is a tuple of ExperimentResult tuples for LinerPredictor model and PreviousPredictor model\n",
    "    \"\"\"\n",
    "    lin_mse_hist = []\n",
    "    lin_win_hist = []\n",
    "    \n",
    "    prev_mse_hist = []\n",
    "    \n",
    "    test_size = int(size * test_frac)\n",
    "    train_size = size - test_size\n",
    "    \n",
    "    def gen_time_series():\n",
    "        series = piecewise_linear(slopes(size, apfreq, mean=slm, sd=slsd)) + random_walk(size, sd=rwsd)\n",
    "        return series.head(train_size), series.tail(test_size)\n",
    "    \n",
    "    def eval_model(model, train, test):\n",
    "        win = model.fitted_window\n",
    "        test = pd.concat([train.tail(win), test])\n",
    "        diff = test.rolling(window=win+1).apply(lambda s: (s[-1] - model.predict(s[0:win]).Prediction).to_list()[0],\n",
    "                                                raw=True)\n",
    "        return (diff ** 2).mean()\n",
    "        \n",
    "    def run_experiment():\n",
    "        train, test = gen_time_series()\n",
    "        \n",
    "        lin_model = LinearForecaster(max_window=train_size // 2, window_step=3)\n",
    "        lin_model = lin_model.fit(train)\n",
    "        lin_mse = eval_model(lin_model, train, test)\n",
    "        \n",
    "        prev_model = PreviousForecaster()\n",
    "        prev_mse = eval_model(prev_model, train, test)\n",
    "        \n",
    "        return lin_mse, lin_model.fitted_window, prev_mse, 1 \n",
    "        \n",
    "    for i in range(repeat):\n",
    "        lin_mse, lin_win, prev_mse, _ = run_experiment()\n",
    "        lin_mse_hist.append(lin_mse)\n",
    "        lin_win_hist.append(lin_win)\n",
    "        prev_mse_hist.append(prev_mse)\n",
    "    \n",
    "    return (ExperimentResult(Name='Linear', AvgMSE=np.mean(lin_mse_hist), AvgWin=np.mean(lin_win_hist)),\n",
    "            ExperimentResult(Name='Prev', AvgMSE=np.mean(prev_mse_hist), AvgWin=1))"
   ]
  },
  {
   "cell_type": "code",
   "execution_count": 264,
   "metadata": {},
   "outputs": [
    {
     "data": {
      "text/plain": [
       "(ExperimentResult(Name='Linear', AvgMSE=1.0810830083577352, AvgWin=69.2),\n",
       " ExperimentResult(Name='Prev', AvgMSE=1.3120549489067836, AvgWin=1))"
      ]
     },
     "execution_count": 264,
     "metadata": {},
     "output_type": "execute_result"
    }
   ],
   "source": [
    "run_experiments(1000, 100, slsd=0.5, rwsd=1, test_frac=0.1, repeat=10)"
   ]
  },
  {
   "cell_type": "code",
   "execution_count": null,
   "metadata": {},
   "outputs": [],
   "source": []
  }
 ],
 "metadata": {
  "kernelspec": {
   "display_name": "Python 3",
   "language": "python",
   "name": "python3"
  },
  "language_info": {
   "codemirror_mode": {
    "name": "ipython",
    "version": 3
   },
   "file_extension": ".py",
   "mimetype": "text/x-python",
   "name": "python",
   "nbconvert_exporter": "python",
   "pygments_lexer": "ipython3",
   "version": "3.7.5"
  }
 },
 "nbformat": 4,
 "nbformat_minor": 2
}
