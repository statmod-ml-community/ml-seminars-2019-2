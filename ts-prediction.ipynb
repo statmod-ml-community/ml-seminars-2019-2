{
 "cells": [
  {
   "cell_type": "code",
   "execution_count": 45,
   "metadata": {},
   "outputs": [],
   "source": [
    "import numpy as np\n",
    "import scipy as sp\n",
    "import pandas as pd\n",
    "\n",
    "import matplotlib.pyplot as plt\n",
    "import seaborn as sns\n",
    "\n",
    "import numpy.random as rnd\n",
    "rnd.seed(42)\n",
    "\n",
    "from itertools import accumulate, chain\n",
    "from functools import reduce"
   ]
  },
  {
   "cell_type": "markdown",
   "metadata": {},
   "source": [
    "# Utils"
   ]
  },
  {
   "cell_type": "code",
   "execution_count": 43,
   "metadata": {},
   "outputs": [],
   "source": [
    "def random_walk(size, mean=0, sd=1, start=0):\n",
    "    sample = np.cumsum(rnd.normal(loc=mean, scale=sd, size=size))\n",
    "    return pd.Series(sample + start - sample[0])\n",
    "    \n",
    "def slopes(limit, apfreq, mean=0, sd=1):\n",
    "    counts = np.ceil(rnd.exponential(size=limit, scale=apfreq)).astype(np.int64)\n",
    "    counts = counts[counts.cumsum() <= limit]\n",
    "    counts = np.append(counts, limit - counts.sum())\n",
    "    slopes = rnd.normal(size=len(counts), loc=mean, scale=sd)\n",
    "    return pd.DataFrame({'counts': counts, 'slopes': slopes})\n",
    "    \n",
    "def piecewise_linear(size, slopes, start=0):\n",
    "    return ply(lambda x: linear(int(x[0]), a=x[1]), axis=1, reduce=True)\n",
    "    \n",
    "def linear(size, a=1, b=0):\n",
    "    return pd.Series(a * np.ones(size).cumsum() + b)"
   ]
  },
  {
   "cell_type": "code",
   "execution_count": 46,
   "metadata": {},
   "outputs": [
    {
     "name": "stdout",
     "output_type": "stream",
     "text": [
      "Help on built-in function reduce in module _functools:\n",
      "\n",
      "reduce(...)\n",
      "    reduce(function, sequence[, initial]) -> value\n",
      "    \n",
      "    Apply a function of two arguments cumulatively to the items of a sequence,\n",
      "    from left to right, so as to reduce the sequence to a single value.\n",
      "    For example, reduce(lambda x, y: x+y, [1, 2, 3, 4, 5]) calculates\n",
      "    ((((1+2)+3)+4)+5).  If initial is present, it is placed before the items\n",
      "    of the sequence in the calculation, and serves as a default when the\n",
      "    sequence is empty.\n",
      "\n"
     ]
    }
   ],
   "source": [
    "help(reduce)"
   ]
  },
  {
   "cell_type": "code",
   "execution_count": 40,
   "metadata": {},
   "outputs": [
    {
     "data": {
      "text/plain": [
       "[<matplotlib.lines.Line2D at 0x7fcdbe21df50>]"
      ]
     },
     "execution_count": 40,
     "metadata": {},
     "output_type": "execute_result"
    },
    {
     "data": {
      "image/png": "[encoded data removed]",
      "text/plain": [
       "<Figure size 432x288 with 1 Axes>"
      ]
     },
     "metadata": {
      "needs_background": "light"
     },
     "output_type": "display_data"
    }
   ],
   "source": [
    "plt.plot(linear(10, start=2))"
   ]
  },
  {
   "cell_type": "code",
   "execution_count": null,
   "metadata": {},
   "outputs": [],
   "source": []
  }
 ],
 "metadata": {
  "kernelspec": {
   "display_name": "Python 3",
   "language": "python",
   "name": "python3"
  },
  "language_info": {
   "codemirror_mode": {
    "name": "ipython",
    "version": 3
   },
   "file_extension": ".py",
   "mimetype": "text/x-python",
   "name": "python",
   "nbconvert_exporter": "python",
   "pygments_lexer": "ipython3",
   "version": "3.7.5"
  }
 },
 "nbformat": 4,
 "nbformat_minor": 2
}
